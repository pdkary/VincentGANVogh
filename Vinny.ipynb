{
  "nbformat": 4,
  "nbformat_minor": 0,
  "metadata": {
    "accelerator": "GPU",
    "colab": {
      "name": "Vinny.ipynb",
      "provenance": [],
      "collapsed_sections": [],
      "machine_shape": "hm",
      "authorship_tag": "ABX9TyNUHuB+yZWwo86k+dZg88Wi",
      "include_colab_link": true
    },
    "kernelspec": {
      "display_name": "Python 3",
      "name": "python3"
    },
    "language_info": {
      "name": "python"
    }
  },
  "cells": [
    {
      "cell_type": "markdown",
      "metadata": {
        "id": "view-in-github",
        "colab_type": "text"
      },
      "source": [
        "<a href=\"https://colab.research.google.com/github/pdkary/VincentGANVogh/blob/main/Vinny.ipynb\" target=\"_parent\"><img src=\"https://colab.research.google.com/assets/colab-badge.svg\" alt=\"Open In Colab\"/></a>"
      ]
    },
    {
      "cell_type": "code",
      "metadata": {
        "id": "Miy15PYkWHBr"
      },
      "source": [
        " \n",
        "!git clone https://github.com/pdkary/VincentGANVogh.git\n",
        "!cd VincentGANVogh/ && git fetch \n",
        "!cd VincentGANVogh/ && git pull\n",
        "!pip install -r /content/VincentGANVogh/requirements.txt\n",
        " \n",
        "import sys\n",
        "sys.path.insert(0,'/content/VincentGANVogh')"
      ],
      "execution_count": null,
      "outputs": []
    },
    {
      "cell_type": "code",
      "metadata": {
        "id": "8zkxFCq6SfsO"
      },
      "source": [
        "from models.GanInput import GenConstantInput, GenLatentSpaceInput\n",
        "from tensorflow.keras.optimizers import Adam\n",
        "from tensorflow.keras.losses import BinaryCrossentropy\n",
        "from third_party_layers.InstanceNormalization import InstanceNormalization\n",
        "from tensorflow.keras.layers import BatchNormalization, LeakyReLU, Activation\n",
        "from config.TrainingConfig import DataConfig, GanTrainingConfig\n",
        "from trainers.GenTapeTrainer import GenTapeTrainer\n",
        "from config.CallableConfig import *\n",
        "from config.GeneratorConfig import *\n",
        "\n",
        "from models.VGG19 import get_vgg19\n",
        " \n",
        "from google.colab import drive\n",
        "drive.mount('/content/drive')\n",
        " \n",
        "leakyRELU_style = ActivationConfig(LeakyReLU,dict(alpha=0.1))\n",
        "leakyRELU_conv = ActivationConfig(LeakyReLU,dict(alpha=0.05))\n",
        "sigmoid = ActivationConfig(Activation,dict(activation=\"sigmoid\"))\n",
        "instance_norm = NormalizationConfig(InstanceNormalization)\n",
        "batch_norm = NormalizationConfig(BatchNormalization,dict(momentum=0.8))\n",
        " \n",
        "gen_model_config = GeneratorModelConfig(\n",
        "    img_shape = (256,256,3),\n",
        "    input_model = GenLatentSpaceInput(100,(4,4,512),100,0,leakyRELU_style),\n",
        "    \n",
        "    style_model_config = StyleModelConfig(\n",
        "        style_latent_size = 100,\n",
        "        style_layer_size = 512,\n",
        "        style_layers = 3,\n",
        "        style_activation = leakyRELU_style),\n",
        "    \n",
        "    noise_model_config = NoiseModelConfig(\n",
        "        noise_image_size = (256,256,3),\n",
        "        kernel_size = 1,\n",
        "        gauss_factor = 1),\n",
        "    \n",
        "    gen_layers = [\n",
        "        GenLayerConfig(512,  4, 3, leakyRELU_conv, upsampling=False, style=False, noise=False),\n",
        "        GenLayerConfig(512,  4, 3, leakyRELU_conv, upsampling=True,  style=False, noise=True),\n",
        "        GenLayerConfig(256,  4, 3, leakyRELU_conv, upsampling=True,  style=False, noise=True),\n",
        "        GenLayerConfig(128,  3, 3, leakyRELU_conv, upsampling=True,  style=True, noise=True),\n",
        "        GenLayerConfig(64,   3, 3, leakyRELU_conv, upsampling=True,  style=True, noise=True),\n",
        "        GenLayerConfig(32,   3, 3, leakyRELU_conv, upsampling=True,  style=True, noise=False),\n",
        "        GenLayerConfig(32,   2, 3, leakyRELU_conv, upsampling=True,  style=True, noise=False),\n",
        "        GenLayerConfig(3,    1, 1, sigmoid,        upsampling=False, style=True, noise=False)],\n",
        "    normalization = instance_norm,\n",
        "    gen_optimizer = Adam(learning_rate=0.002,beta_1=0.0,beta_2=0.99,epsilon=1e-7),\n",
        "    loss_function= BinaryCrossentropy()\n",
        ")\n",
        " \n",
        "disc_model_config = get_vgg19(leakyRELU_conv,leakyRELU_style,sigmoid,instance_norm)\n",
        " \n",
        "gan_training_config = GanTrainingConfig(\n",
        "    plot=True,\n",
        "    #[real_image_label, not_image_label]\n",
        "    disc_labels=[1.0,0.0],\n",
        "    #desired label\n",
        "    gen_label=1.0\n",
        ")\n",
        "\n",
        "data_config = DataConfig(\n",
        "    data_path='/content/drive/MyDrive/Colab/Handwritten/English',    \n",
        "    image_type=\".png\",\n",
        "    image_shape=(256,256,3),\n",
        "    batch_size=4,\n",
        "    model_name='/simplegan_generator_model_',\n",
        "    flip_lr=False,\n",
        "    load_n_percent=10,\n",
        "    preview_rows=4,\n",
        "    preview_cols=6,\n",
        "    preview_margin=16\n",
        ")\n",
        " \n",
        "VGV = GenTapeTrainer(gen_model_config,disc_model_config,gan_training_config,[data_config])"
      ],
      "execution_count": null,
      "outputs": []
    },
    {
      "cell_type": "code",
      "metadata": {
        "id": "qoVhNjHlWvUV"
      },
      "source": [
        "#TRAINING\n",
        "ERAS = 100\n",
        "EPOCHS = 5000\n",
        "BATCHES_PER_EPOCH = 1\n",
        "PRINT_EVERY = 10\n",
        "MOVING_AVERAGE_SIZE = 20\n",
        " \n",
        "VGV.train_n_eras(ERAS,EPOCHS,BATCHES_PER_EPOCH,PRINT_EVERY,MOVING_AVERAGE_SIZE)"
      ],
      "execution_count": null,
      "outputs": []
    }
  ]
}