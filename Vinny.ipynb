{
 "cells": [
  {
   "cell_type": "code",
   "execution_count": null,
   "metadata": {},
   "outputs": [],
   "source": [
    "from GanConfig import GanShapeConfig,GanBuildingConfig,GanTrainingConfig\r\n",
    "from GanTrainer import GanTrainer\r\n",
    "\r\n",
    "from google.colab import drive\r\n",
    "drive.mount('/content/drive')\r\n",
    " \r\n",
    "gan_shape_config = GanShapeConfig(\r\n",
    "    img_shape=(256,256,3),\r\n",
    "    latent_size=50,\r\n",
    "    style_size=100,\r\n",
    "    kernel_size=3,\r\n",
    "    style_layer_size=64,\r\n",
    "    style_layers=8,\r\n",
    "    gen_layer_shapes=[(1024,3),(512,3),(256,3),(128,2),(64,2),(16,2)],\r\n",
    "    disc_layer_shapes=[(64,2),(128,2),(256,3),(512,3),(512,3)],\r\n",
    "    disc_dense_sizes=[4096,4096],\r\n",
    "    minibatch_size=256,\r\n",
    ")\r\n",
    " \r\n",
    "gan_building_config = GanBuildingConfig(\r\n",
    "    relu_alpha=0.1,\r\n",
    "    dropout_rate=0.5,\r\n",
    "    batch_norm_momentum=0.8\r\n",
    ")\r\n",
    " \r\n",
    "gan_training_config = GanTrainingConfig(\r\n",
    "    learning_rate=1e-4,\r\n",
    "    disc_loss_function=\"binary_crossentropy\",\r\n",
    "    gen_loss_function=\"binary_crossentropy\",\r\n",
    "    gauss_factor=0.02,\r\n",
    "    batch_size=8,\r\n",
    "    preview_rows=3,\r\n",
    "    preview_cols=4,\r\n",
    "    data_path='/content/drive/MyDrive/Colab/VanGogh',\r\n",
    "    image_type=\".jpg\",\r\n",
    "    model_name='/GANVogh_generator_model_'\r\n",
    ")\r\n",
    " \r\n",
    "#TRAINING\r\n",
    "ERAS = 100\r\n",
    "EPOCHS = 2500\r\n",
    "BATCHES_PER_EPOCH = 1\r\n",
    "PRINT_EVERY = 10\r\n",
    "\r\n",
    "VGV = GanTrainer(gan_shape_config,gan_building_config,gan_training_config)\r\n",
    "VGV.train_n_eras(ERAS,EPOCHS,BATCHES_PER_EPOCH,PRINT_EVERY)"
   ]
  }
 ],
 "metadata": {
  "kernelspec": {
   "display_name": "Python 3.9.4 64-bit",
   "name": "python394jvsc74a57bd063fd5069d213b44bf678585dea6b12cceca9941eaf7f819626cde1f2670de90d"
  },
  "language_info": {
   "name": "python",
   "version": ""
  },
  "metadata": {
   "interpreter": {
    "hash": "63fd5069d213b44bf678585dea6b12cceca9941eaf7f819626cde1f2670de90d"
   }
  },
  "orig_nbformat": 2
 },
 "nbformat": 4,
 "nbformat_minor": 2
}