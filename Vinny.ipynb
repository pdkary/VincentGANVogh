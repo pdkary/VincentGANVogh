{
  "nbformat": 4,
  "nbformat_minor": 0,
  "metadata": {
    "colab": {
      "name": "Vinny.ipynb",
      "provenance": [],
      "collapsed_sections": [],
      "machine_shape": "hm",
      "authorship_tag": "ABX9TyNC2+lLRcfm6/UaQ8Tsc+yM",
      "include_colab_link": true
    },
    "kernelspec": {
      "name": "python3",
      "display_name": "Python 3"
    },
    "language_info": {
      "name": "python"
    },
    "accelerator": "GPU"
  },
  "cells": [
    {
      "cell_type": "markdown",
      "metadata": {
        "id": "view-in-github",
        "colab_type": "text"
      },
      "source": [
        "<a href=\"https://colab.research.google.com/github/pdkary/VincentGANVogh/blob/main/Vinny.ipynb\" target=\"_parent\"><img src=\"https://colab.research.google.com/assets/colab-badge.svg\" alt=\"Open In Colab\"/></a>"
      ]
    },
    {
      "cell_type": "code",
      "metadata": {
        "id": "Miy15PYkWHBr"
      },
      "source": [
        "!git clone https://github.com/pdkary/VincentGANVogh.git\n",
        "!cd VincentGANVogh/ && git fetch\n",
        "!cd VincentGANVogh/ && git pull\n",
        "!pip install -r /content/VincentGANVogh/requirements.txt\n",
        "\n",
        "import sys\n",
        "sys.path.insert(0,'/content/VincentGANVogh')"
      ],
      "execution_count": null,
      "outputs": []
    },
    {
      "cell_type": "code",
      "metadata": {
        "id": "8zkxFCq6SfsO"
      },
      "source": [
        "from GanConfig import GanShapeConfig,GanBuildingConfig,GanTrainingConfig\n",
        "from GanTrainer import GanTrainer\n",
        "\n",
        "from google.colab import drive\n",
        "drive.mount('/content/drive')\n",
        " \n",
        "gan_shape_config = GanShapeConfig(\n",
        "    img_shape=(256,256,3),\n",
        "    latent_size=4096,\n",
        "    style_size=100,\n",
        "    kernel_size=3,\n",
        "    style_layer_size=128,\n",
        "    style_layers=4,\n",
        "    gen_layer_shapes=[(512,3),(256,2),(128,2),(64,2),(32,2),(16,2)],\n",
        "    gen_layer_upsampling=[True,True,True,True,True,True],\n",
        "    disc_layer_shapes=[(32,2),(64,2),(128,2),(256,3),(512,3),(512,3)],\n",
        "    disc_dense_sizes=[4096,4096,1024],\n",
        "    minibatch_size=12*256,\n",
        ")\n",
        " \n",
        "gan_building_config = GanBuildingConfig(\n",
        "    relu_alpha=0.1,\n",
        "    dropout_rate=0.5,\n",
        "    batch_norm_momentum=0.8\n",
        ")\n",
        " \n",
        "gan_training_config = GanTrainingConfig(\n",
        "    learning_rate=2e-4,\n",
        "    disc_loss_function=\"binary_crossentropy\",\n",
        "    gen_loss_function=\"binary_crossentropy\",\n",
        "    use_latent_noise=False,\n",
        "    gauss_factor=0.1,\n",
        "    batch_size=12,\n",
        "    preview_rows=3,\n",
        "    preview_cols=4,\n",
        "    data_path='/content/drive/MyDrive/Colab/VanGogh',\n",
        "    image_type=\".jpg\",\n",
        "    model_name='/GANVogh_generator_model_'\n",
        ")\n",
        "\n",
        "\n",
        "VGV = GanTrainer(gan_shape_config,gan_building_config,gan_training_config)"
      ],
      "execution_count": null,
      "outputs": []
    },
    {
      "cell_type": "code",
      "metadata": {
        "id": "qoVhNjHlWvUV"
      },
      "source": [
        "#TRAINING\n",
        "ERAS = 100\n",
        "EPOCHS = 2500\n",
        "BATCHES_PER_EPOCH = 1\n",
        "PRINT_EVERY = 10\n",
        "MOVING_AVERAGE_SIZE = 20\n",
        "\n",
        "VGV.train_n_eras(ERAS,EPOCHS,BATCHES_PER_EPOCH,PRINT_EVERY,MOVING_AVERAGE_SIZE)"
      ],
      "execution_count": null,
      "outputs": []
    }
  ]
}